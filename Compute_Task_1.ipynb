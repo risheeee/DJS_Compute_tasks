{
  "nbformat": 4,
  "nbformat_minor": 0,
  "metadata": {
    "colab": {
      "provenance": [],
      "include_colab_link": true
    },
    "kernelspec": {
      "name": "python3",
      "display_name": "Python 3"
    },
    "language_info": {
      "name": "python"
    }
  },
  "cells": [
    {
      "cell_type": "markdown",
      "metadata": {
        "id": "view-in-github",
        "colab_type": "text"
      },
      "source": [
        "<a href=\"https://colab.research.google.com/github/risheeee/DJS_Compute_tasks/blob/main/Compute_Task_1.ipynb\" target=\"_parent\"><img src=\"https://colab.research.google.com/assets/colab-badge.svg\" alt=\"Open In Colab\"/></a>"
      ]
    },
    {
      "cell_type": "markdown",
      "source": [
        "**General Instructions:**\n",
        "\n",
        "*   Please make a copy of this colab notebook in your own drive and solve the questions in the copy. Do not edit the original file.\n",
        "\n",
        "*   All participants are encouraged to learn the basics of python including data types, operators, loops, conditional statements, handling user-defined input, strings, string methods, lists, list comprehension, sets, tuples, dictionaries and basic object-oriented programming concepts before coming to the interview.\n",
        "\n",
        "Beginners unfamiliar with Python are advised to watch the following tutorial before beginning Task 1.\n",
        "\n",
        "**Python Tutorial:** https://youtu.be/_uQrJ0TkZlc?feature=shared\n",
        "\n",
        "\n",
        "**Note:** The expected output is given in the cells below the question.\n"
      ],
      "metadata": {
        "id": "PiZZfxvj57LK"
      }
    },
    {
      "cell_type": "markdown",
      "source": [
        "# Task 1 - Basics of Python\n",
        "\n",
        "\n",
        "\n",
        "> It is the year 3031 and the Earth has been invaded by an alien species from the planet of Dioneterra. The resources on their own planet have become severely depleted and they're determined to subjugate humans and take control of the Earth's resources. The Dioneterrans can take on the appearance of any human. The world has been thrown into chaos and fear as the aliens have infiltrated all levels of government. You don't know who to trust as anyone can be an alien in disguise.\n",
        "\n",
        "\n",
        "\n",
        "\n"
      ],
      "metadata": {
        "id": "FgdtUgoiauGY"
      }
    },
    {
      "cell_type": "markdown",
      "source": [
        "**Question 1:**\n",
        "You have a group of people you can trust, whose identities you have confirmed as humans. Unfortunately, since the aliens have access to government resources they have information on all citizens. It would be the height of foolishness to call your team members by their own names while on missions to save humanity. As such you need to generate secret code names for each member.\n",
        "\n",
        "Given below is a list of names. Your job is to write a function codename_generator() that takes the given list as input and prints every possible combination of code names from the given list, separated by whitespace (e.g. Orion Barracuda). Take care to not print codenames with the same name twice (e.g. Orion Orion) or two codenames with the same combination (e.g. if you have a codename Orion Barracuda, then you cannot have a codename Barracuda Orion)."
      ],
      "metadata": {
        "id": "jk_UOVbvcfJb"
      }
    },
    {
      "cell_type": "code",
      "execution_count": null,
      "metadata": {
        "id": "LmwLUF-kahv0"
      },
      "outputs": [],
      "source": [
        "name_list = [\"Orion\", \"Barracuda\", \"Amethyst\", \"Blade\", \"Wasp\", \"Nemesis\", \"Fury\", \"Cobra\", \"Tempest\", \"Leo\", \"Scythe\"]"
      ]
    },
    {
      "cell_type": "code",
      "source": [
        "#step- 1 : accessing the names with their id's\n",
        "for idx, name in enumerate(name_list):\n",
        "  print(f'id : {idx}, name : {name}')"
      ],
      "metadata": {
        "colab": {
          "base_uri": "https://localhost:8080/"
        },
        "id": "GSBD5ChJ6XpZ",
        "outputId": "96c4f721-a97b-4d7d-f971-2219c330b3f7"
      },
      "execution_count": null,
      "outputs": [
        {
          "output_type": "stream",
          "name": "stdout",
          "text": [
            "id : 0, name : Orion\n",
            "id : 1, name : Barracuda\n",
            "id : 2, name : Amethyst\n",
            "id : 3, name : Blade\n",
            "id : 4, name : Wasp\n",
            "id : 5, name : Nemesis\n",
            "id : 6, name : Fury\n",
            "id : 7, name : Cobra\n",
            "id : 8, name : Tempest\n",
            "id : 9, name : Leo\n",
            "id : 10, name : Scythe\n"
          ]
        }
      ]
    },
    {
      "cell_type": "code",
      "source": [
        "#Step - 2 : creating the function\n",
        "def codename_generator(name_list):\n",
        "  for idx, name in enumerate(name_list):\n",
        "   codename_list = name_list[idx + 1:]\n",
        "   for codename in codename_list:\n",
        "    print(f'{name} {codename}')"
      ],
      "metadata": {
        "id": "nnxi1Vi56ZMH"
      },
      "execution_count": null,
      "outputs": []
    },
    {
      "cell_type": "code",
      "source": [
        "#Step - 3 : calling the function\n",
        "codename_generator(name_list)"
      ],
      "metadata": {
        "colab": {
          "base_uri": "https://localhost:8080/"
        },
        "id": "k8fqYFkF6bee",
        "outputId": "96bf825c-4f52-41a2-9e6e-1ed401e9726f"
      },
      "execution_count": null,
      "outputs": [
        {
          "output_type": "stream",
          "name": "stdout",
          "text": [
            "Orion Barracuda\n",
            "Orion Amethyst\n",
            "Orion Blade\n",
            "Orion Wasp\n",
            "Orion Nemesis\n",
            "Orion Fury\n",
            "Orion Cobra\n",
            "Orion Tempest\n",
            "Orion Leo\n",
            "Orion Scythe\n",
            "Barracuda Amethyst\n",
            "Barracuda Blade\n",
            "Barracuda Wasp\n",
            "Barracuda Nemesis\n",
            "Barracuda Fury\n",
            "Barracuda Cobra\n",
            "Barracuda Tempest\n",
            "Barracuda Leo\n",
            "Barracuda Scythe\n",
            "Amethyst Blade\n",
            "Amethyst Wasp\n",
            "Amethyst Nemesis\n",
            "Amethyst Fury\n",
            "Amethyst Cobra\n",
            "Amethyst Tempest\n",
            "Amethyst Leo\n",
            "Amethyst Scythe\n",
            "Blade Wasp\n",
            "Blade Nemesis\n",
            "Blade Fury\n",
            "Blade Cobra\n",
            "Blade Tempest\n",
            "Blade Leo\n",
            "Blade Scythe\n",
            "Wasp Nemesis\n",
            "Wasp Fury\n",
            "Wasp Cobra\n",
            "Wasp Tempest\n",
            "Wasp Leo\n",
            "Wasp Scythe\n",
            "Nemesis Fury\n",
            "Nemesis Cobra\n",
            "Nemesis Tempest\n",
            "Nemesis Leo\n",
            "Nemesis Scythe\n",
            "Fury Cobra\n",
            "Fury Tempest\n",
            "Fury Leo\n",
            "Fury Scythe\n",
            "Cobra Tempest\n",
            "Cobra Leo\n",
            "Cobra Scythe\n",
            "Tempest Leo\n",
            "Tempest Scythe\n",
            "Leo Scythe\n"
          ]
        }
      ]
    },
    {
      "cell_type": "markdown",
      "source": [
        "**Question 2:**\n",
        "You recently caught wind of the rumour that a Resistance Movement against the aliens is starting to gain traction. You and your group of trustworthy humans resolve to go to the headquarters of the Resistance and join the movement.\n",
        "\n",
        "You reach the headquarters and find utter chaos, the leader of the Resistance tells you that they have so many refugees and as a result their registration system is a mess and they have no way of telling apart actual humans and aliens who might have infiltrated the headquarters as humans.\n",
        "\n",
        "He knows that you have programming skills and asks for your help in weeding out the aliens.\n",
        "\n",
        "Given below in the form of a list is the register of names of refugees that the headquarters maintains. Sort the names into two lists - potential aliens and humans. Alien names may:\n",
        "*   begin with the letter 'G'\n",
        "*   contain the substring 'arz'\n",
        "*   contain a digit\n",
        "\n",
        "Additionally, ensure that the new lists do not contain duplicate names and handle any problems that may arise due to case-sensitivity and whitespaces.\n",
        "\n"
      ],
      "metadata": {
        "id": "gezvSe3_hgoU"
      }
    },
    {
      "cell_type": "code",
      "source": [
        "register = [\"Gunther\", \"karzan\", \"pip1do\", \"amelia\", \"emma\", \"jarzk\", \"P0ppy\", \"gunther\", \"Daisy\",\" Demelza \", \"Lisa \", \"garzon \", \"marz4\"]"
      ],
      "metadata": {
        "id": "xqobzAhOunhf"
      },
      "execution_count": null,
      "outputs": []
    },
    {
      "cell_type": "code",
      "source": [
        "#Step 1 : removing the whitespaces and converting the chartacters to lowercase\n",
        "register = [name.strip().lower() for name in register]\n",
        "register"
      ],
      "metadata": {
        "colab": {
          "base_uri": "https://localhost:8080/"
        },
        "id": "ErH6002o6h2w",
        "outputId": "08af6ca4-ef92-4de7-d5d3-e21e6faa3ffc"
      },
      "execution_count": null,
      "outputs": [
        {
          "output_type": "execute_result",
          "data": {
            "text/plain": [
              "['gunther',\n",
              " 'karzan',\n",
              " 'pip1do',\n",
              " 'amelia',\n",
              " 'emma',\n",
              " 'jarzk',\n",
              " 'p0ppy',\n",
              " 'gunther',\n",
              " 'daisy',\n",
              " 'demelza',\n",
              " 'lisa',\n",
              " 'garzon',\n",
              " 'marz4']"
            ]
          },
          "metadata": {},
          "execution_count": 9
        }
      ]
    },
    {
      "cell_type": "code",
      "source": [
        "#Step 2 : sorting the names as aliens or humans\n",
        "Humans = []\n",
        "Aliens = []\n",
        "\n",
        "for name in register:\n",
        "  if name.startswith('g') or 'arz' in name or any(char.isdigit() for char in name):\n",
        "    if name not in Aliens:\n",
        "     Aliens.append(name)\n",
        "  else:\n",
        "    Humans.append(name)\n",
        "\n",
        "print(f'Humans : {Humans}')\n",
        "print(f'Aliens : {Aliens}')"
      ],
      "metadata": {
        "colab": {
          "base_uri": "https://localhost:8080/"
        },
        "id": "O8M5V3ig6jDF",
        "outputId": "669b995d-1496-46ce-bcf8-cc0f85b45f04"
      },
      "execution_count": null,
      "outputs": [
        {
          "output_type": "stream",
          "name": "stdout",
          "text": [
            "Humans : ['amelia', 'emma', 'daisy', 'demelza', 'lisa']\n",
            "Aliens : ['gunther', 'karzan', 'pip1do', 'jarzk', 'p0ppy', 'garzon', 'marz4']\n"
          ]
        }
      ]
    },
    {
      "cell_type": "markdown",
      "source": [
        "**Question 3:** Now that you have identified the potential aliens, its now time to decide how probable it is that these refugees are aliens.\n",
        "\n",
        "Prepare a dictionary where the keys are the names from the potential aliens list and the associated values are percentages from 0-100 of how probable it is that the refugee with those names are aliens.\n",
        "\n",
        "Given below are the conditions and associated probabilities:\n",
        "*   name starts with 'g' - 25%\n",
        "*   name contains \"arz\" - 50%\n",
        "*   name starts with 'g' and contains \"arz\" - 75%\n",
        "*   name has a digit - 100%"
      ],
      "metadata": {
        "id": "coC9Sbqd0bq0"
      }
    },
    {
      "cell_type": "code",
      "source": [
        "#Step 1 : creating a function to return probability\n",
        "def determine_prob(name):\n",
        " if any(char.isdigit() for char in name):\n",
        "  return 100\n",
        " elif name.startswith('g') and 'arz' in name:\n",
        "  return 75\n",
        " elif 'arz' in name:\n",
        "  return 50\n",
        " elif name.startswith('g'):\n",
        "  return 25\n",
        " else:\n",
        "  return 0"
      ],
      "metadata": {
        "id": "313d4quj6rBI"
      },
      "execution_count": null,
      "outputs": []
    },
    {
      "cell_type": "code",
      "source": [
        "#Step 2: populating the dictionary\n",
        "alien_dict = {}\n",
        "\n",
        "for name in Aliens:\n",
        "  alien_dict[name] = determine_prob(name)"
      ],
      "metadata": {
        "id": "Cw6iwyrn6sPU"
      },
      "execution_count": null,
      "outputs": []
    },
    {
      "cell_type": "code",
      "source": [
        "#Step 3 : output\n",
        "alien_dict"
      ],
      "metadata": {
        "colab": {
          "base_uri": "https://localhost:8080/"
        },
        "id": "LpKzk4n16udU",
        "outputId": "0b7d999d-f6d0-46c4-87e2-61a3958fc819"
      },
      "execution_count": null,
      "outputs": [
        {
          "output_type": "execute_result",
          "data": {
            "text/plain": [
              "{'gunther': 25,\n",
              " 'karzan': 50,\n",
              " 'pip1do': 100,\n",
              " 'jarzk': 50,\n",
              " 'p0ppy': 100,\n",
              " 'garzon': 75,\n",
              " 'marz4': 100}"
            ]
          },
          "metadata": {},
          "execution_count": 13
        }
      ]
    },
    {
      "cell_type": "markdown",
      "source": [
        "**Question 4:** Now that you have completely weeded out the aliens, onto the next part of the plan.\n",
        "\n",
        "There are 12 districts in your city - I to XII. Another resistance group has agreed to share supplies with your group. They send you a list of districts they are operational in and you have in hand, the list of districts your group has members in. Determine which districts you can meet up in, i.e., districts that both the groups operate in.\n",
        "\n",
        "Hint: set operations may prove useful."
      ],
      "metadata": {
        "id": "6z7Wr4BD8xSA"
      }
    },
    {
      "cell_type": "code",
      "source": [
        "your_districts = ['I', 'IV', 'V', 'I', 'VI', 'IX', 'X', 'II', 'III', 'I']\n",
        "their_districts = ['V', 'IV', 'VI', 'XII', 'VII', 'IV', 'VI', 'VIII', 'III']"
      ],
      "metadata": {
        "id": "xUCGsUO9-use"
      },
      "execution_count": null,
      "outputs": []
    },
    {
      "cell_type": "code",
      "source": [
        "#Step 1 : checking the type using 'type' function\n",
        "type(your_districts)"
      ],
      "metadata": {
        "colab": {
          "base_uri": "https://localhost:8080/"
        },
        "id": "5a3mDbYa60es",
        "outputId": "66bd3d8e-8d03-40b5-cdd0-82416025146f"
      },
      "execution_count": null,
      "outputs": [
        {
          "output_type": "execute_result",
          "data": {
            "text/plain": [
              "list"
            ]
          },
          "metadata": {},
          "execution_count": 15
        }
      ]
    },
    {
      "cell_type": "code",
      "source": [
        "#Step 2 : converting the lists into sets\n",
        "your_districts = set(your_districts)\n",
        "their_districts = set(their_districts)"
      ],
      "metadata": {
        "id": "UCZyDpbQ62lC"
      },
      "execution_count": null,
      "outputs": []
    },
    {
      "cell_type": "code",
      "source": [
        "#Step 3 : confirming the type using 'type' function\n",
        "type(your_districts)"
      ],
      "metadata": {
        "colab": {
          "base_uri": "https://localhost:8080/"
        },
        "id": "OvhdQ17E67Ta",
        "outputId": "182bbf77-bad7-4386-ef10-eab51fb2b38f"
      },
      "execution_count": null,
      "outputs": [
        {
          "output_type": "execute_result",
          "data": {
            "text/plain": [
              "set"
            ]
          },
          "metadata": {},
          "execution_count": 17
        }
      ]
    },
    {
      "cell_type": "code",
      "source": [
        "#Step 4 : taking the intersection of both the sets\n",
        "meet_up_districts = your_districts.intersection(their_districts)\n",
        "print('Meet Up Districts :', meet_up_districts)"
      ],
      "metadata": {
        "colab": {
          "base_uri": "https://localhost:8080/"
        },
        "id": "I8ES0Pib68nZ",
        "outputId": "01f77dfd-bd82-4f0b-96f1-b4ce0c57b18f"
      },
      "execution_count": null,
      "outputs": [
        {
          "output_type": "stream",
          "name": "stdout",
          "text": [
            "Meet Up Districts : {'V', 'IV', 'VI', 'III'}\n"
          ]
        }
      ]
    },
    {
      "cell_type": "markdown",
      "source": [
        "Let's take the difficulty up a notch shall we? Your spies have informed you that the alien goverment has been setting up patrols in some districts to curb rebel movement. One of the spies managed to get a list of the districts that are being patrolled. Ensure that your meet up with the other rebel group does not take place in a patrolled district so that you do not get caught."
      ],
      "metadata": {
        "id": "0MHXt5lKAYIW"
      }
    },
    {
      "cell_type": "code",
      "source": [
        "patrolled_districts = ['I', 'II', 'XII', 'IX', 'XI', 'IV', 'II', 'VI']"
      ],
      "metadata": {
        "id": "M-2hfJTOCfAz"
      },
      "execution_count": null,
      "outputs": []
    },
    {
      "cell_type": "code",
      "source": [
        "#Step 1 : checking the type using 'type' function\n",
        "type(patrolled_districts)"
      ],
      "metadata": {
        "colab": {
          "base_uri": "https://localhost:8080/"
        },
        "id": "tjfGZ3aW7B3x",
        "outputId": "4de546d0-4b85-41da-a98d-c4f7ef8b98af"
      },
      "execution_count": null,
      "outputs": [
        {
          "output_type": "execute_result",
          "data": {
            "text/plain": [
              "list"
            ]
          },
          "metadata": {},
          "execution_count": 20
        }
      ]
    },
    {
      "cell_type": "code",
      "source": [
        "#Step 2 : converting the list into set using \"set\" function\n",
        "patrolled_districts = set(patrolled_districts)\n",
        "type(patrolled_districts)"
      ],
      "metadata": {
        "colab": {
          "base_uri": "https://localhost:8080/"
        },
        "id": "T6DmP4CE7C7t",
        "outputId": "b43f6f28-8871-4a4c-9928-abf52e18029d"
      },
      "execution_count": null,
      "outputs": [
        {
          "output_type": "execute_result",
          "data": {
            "text/plain": [
              "set"
            ]
          },
          "metadata": {},
          "execution_count": 21
        }
      ]
    },
    {
      "cell_type": "code",
      "source": [
        "#Step 3 : identifying the common districts\n",
        "common_districts = meet_up_districts.intersection(patrolled_districts)\n",
        "common_districts"
      ],
      "metadata": {
        "colab": {
          "base_uri": "https://localhost:8080/"
        },
        "id": "QfFdymcm7E-6",
        "outputId": "4b729ce2-5315-4cc7-b29d-efe417c1559b"
      },
      "execution_count": null,
      "outputs": [
        {
          "output_type": "execute_result",
          "data": {
            "text/plain": [
              "{'IV', 'VI'}"
            ]
          },
          "metadata": {},
          "execution_count": 22
        }
      ]
    },
    {
      "cell_type": "code",
      "source": [
        "#Step 4 : removing the common districts from the meet up districts\n",
        "new_meet_up_districts = meet_up_districts.difference(common_districts)\n",
        "print('new meet up districts :', new_meet_up_districts)"
      ],
      "metadata": {
        "colab": {
          "base_uri": "https://localhost:8080/"
        },
        "id": "hOlNrP3w7HX_",
        "outputId": "92764a66-d76a-4ddc-df5a-291b00903d89"
      },
      "execution_count": null,
      "outputs": [
        {
          "output_type": "stream",
          "name": "stdout",
          "text": [
            "new meet up districts : {'V', 'III'}\n"
          ]
        }
      ]
    },
    {
      "cell_type": "markdown",
      "source": [
        "**Question 5:** Given below is a list of tuples. Each tuple in this list contains the rank and the name of a Dioneterran Commander. Your job is to define two functions: sort_by_rank() in descending order and sort_by_name() alphabetically to sort the given list by rank and name, respectively.\n",
        "\n",
        "Hint: use lambda expressions"
      ],
      "metadata": {
        "id": "hryYd_ubD2U8"
      }
    },
    {
      "cell_type": "code",
      "source": [
        "commanders = {(4, \"Barzak\"), (2, \"Donesia\"), (5, \"Zeroza\"), (1, \"Yggacia\"), (3, \"Larzon\")}"
      ],
      "metadata": {
        "id": "XniLIPBoGrl9"
      },
      "execution_count": null,
      "outputs": []
    },
    {
      "cell_type": "code",
      "source": [
        "#Step 1 : sorting the commanders using the 'sorted' function\n",
        "rank_sort = sorted(commanders, key = lambda x : x[0], reverse = True)\n",
        "name_sort = sorted(commanders, key = lambda x : x[1])"
      ],
      "metadata": {
        "id": "dWSooiD-7M3o"
      },
      "execution_count": null,
      "outputs": []
    },
    {
      "cell_type": "code",
      "source": [
        "#Step 2 : printing the names\n",
        "print('sorted by rank :', rank_sort)\n",
        "print('sorted by name :', name_sort)"
      ],
      "metadata": {
        "colab": {
          "base_uri": "https://localhost:8080/"
        },
        "id": "iOgMEXHE7NXV",
        "outputId": "28674cb6-22ae-4a1c-d950-07c8f078cca4"
      },
      "execution_count": null,
      "outputs": [
        {
          "output_type": "stream",
          "name": "stdout",
          "text": [
            "sorted by rank : [(5, 'Zeroza'), (4, 'Barzak'), (3, 'Larzon'), (2, 'Donesia'), (1, 'Yggacia')]\n",
            "sorted by name : [(4, 'Barzak'), (2, 'Donesia'), (3, 'Larzon'), (1, 'Yggacia'), (5, 'Zeroza')]\n"
          ]
        }
      ]
    },
    {
      "cell_type": "markdown",
      "source": [
        "**Question 6:** You have been given the task of calculating the danger level of Dioneterran Commanders. To accomplish this task, you're required to define a class Commander with the attributes name, rank, weight, height and age. Implement a method calculate_danger() that returns the danger level by adding the height to the weight and dividing the result by the age, round off to the nearest integer.\n",
        "\n",
        "Create a Commander object with the necessary parameters and print the danger level."
      ],
      "metadata": {
        "id": "90Nijs1KIZZ0"
      }
    },
    {
      "cell_type": "code",
      "source": [
        "class Commander:\n",
        "  def __init__(self, name, rank, weight, height, age):\n",
        "    self.name = name\n",
        "    self.rank = rank\n",
        "    self.weight = weight\n",
        "    self.height = height\n",
        "    self.age = age\n",
        "\n",
        "  def calculate_danger(self):\n",
        "    danger_level = round((self.height + self.weight) / self.age)\n",
        "    return danger_level"
      ],
      "metadata": {
        "id": "www1U3ov7TMV"
      },
      "execution_count": null,
      "outputs": []
    },
    {
      "cell_type": "code",
      "source": [
        "commander = Commander(name = 'Yggacia', rank = 1, weight = 70, height = 170, age = 30)\n",
        "print(f'Commander Name = {commander.name},  Danger Level = {commander.calculate_danger()}')"
      ],
      "metadata": {
        "colab": {
          "base_uri": "https://localhost:8080/"
        },
        "id": "Tqn6NpyQ7UR6",
        "outputId": "d7fc2cac-d70e-4408-e1d7-d0564734282e"
      },
      "execution_count": null,
      "outputs": [
        {
          "output_type": "stream",
          "name": "stdout",
          "text": [
            "Commander Name = Yggacia,  Danger Level = 8\n"
          ]
        }
      ]
    },
    {
      "cell_type": "markdown",
      "source": [
        "**Question 7:** All the refugees in the headquarters who have been confirmed as humans have been assigned an ID. A lock has been installed at the gate. Your job is to write a regular expression that checks whether the ID entered is a valid one. Valid IDs have the following features:\n",
        "*   They are strings of exactly 7 characters\n",
        "*   The first 3 characters are uppercase alphabets\n",
        "*   The other last 4 characters are digits.\n",
        "\n",
        "Given below is a list of IDs entered at the gate. Determine which ones are valid.\n",
        "\n",
        "\n",
        "P.S. Don't forget to import the re module"
      ],
      "metadata": {
        "id": "74iydRkwULOi"
      }
    },
    {
      "cell_type": "code",
      "source": [
        "test_ids = [\"ABC1234\", \"sbaz56\", \"Wuy1452\", \"TYP9006\", \"KZED439\"]"
      ],
      "metadata": {
        "id": "WcroHcC4VUaY"
      },
      "execution_count": null,
      "outputs": []
    },
    {
      "cell_type": "code",
      "source": [
        "#pattern for 3 uppercase characters - ^[A-Z]{3}\n",
        "#pattern for 4 digits at end - /d{4}$\n",
        "#putting it together r'^[A-Z]{3}/d{4}$'\n",
        "#where r is the 'raw character' it wont interpret the escape character\n",
        "\n",
        "import re\n",
        "pattern = r'^[A-Z]{3}\\d{4}$'\n",
        "\n",
        "def valid_id(id):\n",
        "  return re.match(pattern , id)\n",
        "\n",
        "valid_ids = [id for id in test_ids if valid_id(id)]\n",
        "print(f'Valid IDs : {valid_ids}')"
      ],
      "metadata": {
        "colab": {
          "base_uri": "https://localhost:8080/"
        },
        "id": "bVndk4xt7bUe",
        "outputId": "b66673c0-39b4-4a04-f600-abaa9032e8a7"
      },
      "execution_count": null,
      "outputs": [
        {
          "output_type": "stream",
          "name": "stdout",
          "text": [
            "Valid IDs : ['ABC1234', 'TYP9006']\n"
          ]
        }
      ]
    },
    {
      "cell_type": "markdown",
      "source": [
        "For a better understanding of Regular Expressions: https://realpython.com/regex-python/"
      ],
      "metadata": {
        "id": "ZlnxyGHm7z0J"
      }
    }
  ]
}